{
 "cells": [
  {
   "cell_type": "markdown",
   "metadata": {
    "nbpresent": {
     "id": "be3d5745-153d-4e5f-a061-68b6a4b10be9"
    },
    "slideshow": {
     "slide_type": "slide"
    }
   },
   "source": [
    "\n",
    "# GitHub for @Engineering\n",
    "\n",
    "<br/>\n",
    "<br/>\n",
    "\n",
    "## Frank Snyder\n",
    "\n",
    "<br/>\n",
    "<br/>\n",
    "\n",
    "\n",
    "#### Product Evangelist - Analytical Graphics, Inc.\n",
    "##### fsnyder@agi.com\n",
    "##### www.agi.com\n",
    "https://github.com/agifsnyder/\n"
   ]
  },
  {
   "cell_type": "markdown",
   "metadata": {
    "nbpresent": {
     "id": "132610c8-7927-486d-be22-15f3e02a78a9"
    },
    "slideshow": {
     "slide_type": "subslide"
    }
   },
   "source": [
    "### - Outline some existing issues"
   ]
  },
  {
   "cell_type": "markdown",
   "metadata": {
    "nbpresent": {
     "id": "929984ee-572e-46c6-8ee6-c005077a6993"
    },
    "slideshow": {
     "slide_type": "fragment"
    }
   },
   "source": [
    "### - Discuss their impacts"
   ]
  },
  {
   "cell_type": "markdown",
   "metadata": {
    "nbpresent": {
     "id": "71665d79-82f2-4169-a797-65aaf4eb670b"
    },
    "slideshow": {
     "slide_type": "fragment"
    }
   },
   "source": [
    "### - Offer up a (potential) Solution"
   ]
  },
  {
   "cell_type": "markdown",
   "metadata": {
    "nbpresent": {
     "id": "410dbed7-cd8c-4837-a1cf-709585359f7a"
    },
    "slideshow": {
     "slide_type": "subslide"
    }
   },
   "source": [
    "## Context...\n",
    "<br/>\n",
    "<div style=\"width:300px; margin: 0 auto;\">\n",
    "  <img src=\"images/warning-sign-about-road-bumps.png\" width=\"100%\" height=\"100%\" style=\"margin: 0 auto;\"/>\n",
    "  <h3 style=\"text-size: small;text-align:center;\"><strong>Caution Ahead!!</strong></h3>\n",
    "</div>"
   ]
  },
  {
   "cell_type": "markdown",
   "metadata": {
    "nbpresent": {
     "id": "dfea0234-bc1b-49d0-b985-238ed37746e7"
    },
    "slideshow": {
     "slide_type": "fragment"
    }
   },
   "source": [
    "<h2 style=\"text-align:center;\">Speedbumps KILL</h3>"
   ]
  },
  {
   "cell_type": "markdown",
   "metadata": {
    "nbpresent": {
     "id": "dfea0234-bc1b-49d0-b985-238ed37746e7"
    },
    "slideshow": {
     "slide_type": "fragment"
    }
   },
   "source": [
    "<h2 style=\"text-align:center;\">Adoption</h3>"
   ]
  },
  {
   "cell_type": "markdown",
   "metadata": {
    "nbpresent": {
     "id": "0b3b3168-2433-4142-91f4-c4094e6057fd"
    },
    "slideshow": {
     "slide_type": "subslide"
    }
   },
   "source": [
    "- AGI Staff can surmount many obstacles\n",
    "- <span style=\"background:black; color:white; padding:2px;\"> Customers  might  not </span>\n",
    "<br/>\n",
    "\n",
    "- AGI Staff have hints where to look for stuff\n",
    "- <span style=\"background:black; color:white;  padding:2px;\"> Prospects  Don't </span>\n",
    "<br/>\n",
    "\n",
    "- AGI Staff can find additional help\n",
    "- <span style=\"background:black; color:white; padding:2px; \"> Customers and Prospects might  not  bother </span>\n",
    "<br/>\n",
    "\n",
    "- AGI Help Docs & Training Materials treated as **1st Class Citizens** \n",
    "- <span style=\"background:black; color:white; padding:2px; \"> Our Code Examples are NOT </span>\n"
   ]
  },
  {
   "cell_type": "markdown",
   "metadata": {
    "nbpresent": {
     "id": "fab75c41-ac16-4af1-a57a-c0378fa1eb11"
    },
    "slideshow": {
     "slide_type": "subslide"
    }
   },
   "source": [
    "### [Case 1](http://help.agi.com/stkdevkit/index.htm#automationTree/TechnologyAutomateSamples.htm%3FTocPath%3DDevelopment%2520Environments%7CCode%2520Samples%7C_____1)\n",
    "A __Prospective__ customer somehow finds and uses our Programming Help to browse our API, getting familiar with it.\n",
    "<br/>\n",
    "After a lengthy excursion through our docs he arrives here:\n",
    "<br/>\n",
    "<div style=\"width:600px; margin: 0 auto;\">\n",
    "  <img src=\"images/CodeSamples.png\" width=\"100%\" height=\"100%\" style=\"margin: 0 auto;\"/>\n",
    "</div>\n",
    "  <h4 style=\"text-size: small;text-align:center;\"><strong>Now What?</strong></h4>\n",
    "  <h4 style=\"text-size: small;text-align:center;\"><strong>No way to look at full code examples without some extra steps...</strong></h4>\n"
   ]
  },
  {
   "cell_type": "markdown",
   "metadata": {
    "nbpresent": {
     "id": "fab75c41-ac16-4af1-a57a-c0378fa1eb11"
    },
    "slideshow": {
     "slide_type": "subslide"
    }
   },
   "source": [
    "### [Case 2](https://analyticalgraphics.my.salesforce.com/articles/Code_Sample/STK-Object-Model-Walkthrough-Python-with-Jupyter-Notebook?popup=false&navBack=H4sIAAAAAAAAAIuuVipWslLyzssvz0lNSU_1yM9NVdJRygaKFSSmp4ZkluSA-KVAvn58aaZ-NkyhPpCDosu-ODWxKDnDVqk2FgDeHqwIVQAAAA)\n",
    "An __AGI Staff Member__ searches SalesForce for keywords to locate a Code-related Knowledge Article.\n",
    "<br/>\n",
    "After fighting the search he finds this:\n",
    "<br/>\n",
    "<div style=\"width:600px; margin: 0 auto;\">\n",
    "  <img src=\"images/SF-KA-code1.png\" width=\"100%\" height=\"100%\" style=\"margin: 0 auto;\"/>\n",
    "</div>\n",
    "  <h4 style=\"text-size: small;text-align:center;\"><strong>What's in the zip file ? Is it even relevant ?</strong></h4>\n",
    "  <h4 style=\"text-size: small;text-align:center;\"><strong>Does it even have code with the related API Keywords ?</strong></h4>\n"
   ]
  },
  {
   "cell_type": "markdown",
   "metadata": {
    "nbpresent": {
     "id": "787f80b3-1a0d-4224-8a14-2727500a510b"
    },
    "slideshow": {
     "slide_type": "slide"
    }
   },
   "source": [
    "<div style=\"width:800px;  margin: 0 auto;\">\n",
    "  <img src=\"images/Octicons-mark-github.svg\"  width=\"100%\" height=\"70%\" style=\"margin: 0 auto;\"/>\n",
    "</div>\n",
    "<h3 style=\"text-size: small;text-align:center;\"><strong>GitHub</strong></h3>\n"
   ]
  },
  {
   "cell_type": "markdown",
   "metadata": {
    "nbpresent": {
     "id": "6a098ac1-fddc-464a-b067-d5ceb3f924e6"
    },
    "slideshow": {
     "slide_type": "subslide"
    }
   },
   "source": [
    "## What is it ?\n",
    "\n",
    "<br/>\n",
    "\n",
    "### GitHub ≠ Git\n",
    "\n",
    "They are related, as one powers the other, so let's talk about Git for a sec.\n"
   ]
  },
  {
   "cell_type": "markdown",
   "metadata": {
    "slideshow": {
     "slide_type": "subslide"
    }
   },
   "source": [
    "### Git is __Decentralized__ Versioning Control\n",
    "\n",
    "<br/>\n",
    "<div style=\"width:800px; margin: 0 auto;\">\n",
    "  <img src=\"images/centralized_topology.jpg\" width=\"100%\" height=\"100%\"  style=\"margin: 0 auto;\"/>\n",
    "</div>\n",
    "\n",
    "### Too many Tutorials on Git to list or even mention.\n",
    "\n",
    "#### Here's a [Good Example](http://www.eecs.umich.edu/courses/engr100/git-tutorial/) and [another](https://infx-web-win17.github.io/tutorials/managing-files/)"
   ]
  },
  {
   "cell_type": "markdown",
   "metadata": {
    "slideshow": {
     "slide_type": "subslide"
    }
   },
   "source": [
    "# So what is GitHub ?\n",
    "\n",
    "-  ### Collaboration\n",
    "-  ### Discovery\n",
    "-  ### Transparency\n",
    "-  ### Social\n",
    " \n",
    "<br/>\n",
    "\n",
    "### The Corporate Pitch: [(GitHub Enterprise: How People Build Software)](https://enterprise.github.com/downloads/en/enterprise-datasheet.pdf)\n",
    "\n",
    "###  3rd Party Papers: [(Social Coding in GitHub: Transparency and Collaboration in an Open Software Repository)](http://www.jsntsay.com/publications/dabbish-cscw2012.pdf)"
   ]
  },
  {
   "cell_type": "markdown",
   "metadata": {
    "slideshow": {
     "slide_type": "slide"
    }
   },
   "source": [
    "# Live Examples !\n",
    "\n",
    "- ### Case 1 :  [STK Code Samples on GitHub](https://github.com/AGI-Solutions-Engineers/SampleExamples) (Temporary) \n",
    "  - #### [Associated website](https://agi-solutions-engineers.github.io/SampleExamples/)\n",
    "\n",
    "\n",
    "- ### Case 2 : [Contents of Code from SalesForce Knowledge Articles](https://github.com/agifsnyder/STK-Integration)\n",
    "  - #### [Deep Link to rendered pages](https://github.com/agifsnyder/STK-Integration/blob/master/STK%20and%20Python%20with%20comtypes.ipynb)\n",
    "  - #### [Associated website](https://agifsnyder.github.io/STK-Integration/#/)"
   ]
  },
  {
   "cell_type": "markdown",
   "metadata": {
    "slideshow": {
     "slide_type": "subslide"
    }
   },
   "source": [
    "### Other content and features\n",
    "- #### Custom filetype rendering\n",
    "  - [3D Model](https://github.blog/2013-04-09-stl-file-viewing/) .stl files\n",
    "    - [Full 3D Model Projects](https://github.com/reprap/huxley) or simple [bike parts](https://github.com/eweinhoffer/Bike-Accessories/blob/master/Tool%20Holder.STL)\n",
    "    - [House](https://github.com/canadaduane/house) bug tracker\n",
    "  - [Maps](https://github.blog/2013-06-13-there-s-a-map-for-that/) and [More Maps](https://github.blog/2013-06-26-geojson-rendering-improvements/) for .geojason & .toppojson files\n",
    "    - [City of Philadelphia](https://github.com/cityofphiladelphia) Open Data Repo's [RecycleBank example](https://github.com/CityOfPhiladelphia/StreetsDept-geodata-ecocamp/blob/f3c22401501e3298d2c8a60985927ae012f2cbd4/RecycleBank_Customers/RecycleBank_Customers.geojson) and [Zipcodes](https://github.com/CityOfPhiladelphia/pipeline-lead-data/blob/d44ac8c68940cbe9403d30761e6a7678110bf581/data/Zipcodes_Poly.geojson)\n",
    "    - HTML Preview Render of *.html* files\n",
    "      use http://htmlpreview.github.io/? as a prefix to the actual URL of the HTML file\n",
    "      [like this](http://htmlpreview.github.io/?https://github.com/agifsnyder/STK-Integration/blob/master/STK%20and%20Python%20with%20comtypes.html)\n",
    "\n",
    "- #### [Gists](https://gist.github.com/)\n",
    "\n",
    "- #### [Traffic Analysis](https://github.blog/2014-01-07-introducing-github-traffic-analytics/) on [my humble project](https://github.com/agifsnyder/STK-Integration/graphs/traffic)"
   ]
  },
  {
   "cell_type": "markdown",
   "metadata": {
    "slideshow": {
     "slide_type": "subslide"
    }
   },
   "source": [
    "## [The AGI Gold Standard](https://github.com/AnalyticalGraphicsInc/cesium)\n",
    "<br/>\n",
    "<br/>\n",
    "<div style=\"width:800px;  margin: 0 auto;\">\n",
    "  <img src=\"images/Cesium_Logo_Color_Overlay.png\"  width=\"100%\" height=\"70%\" style=\"margin: 0 auto;\"/>\n",
    "</div>\n"
   ]
  },
  {
   "cell_type": "markdown",
   "metadata": {
    "slideshow": {
     "slide_type": "subslide"
    }
   },
   "source": [
    "# Some Alternatives to GitHub\n",
    "\n",
    "- ## [Bitbucket](https://bitbucket.org/)   <img src=\"images/Bitbucket@2x-blue.png\" style=\" height: 30px; display: inline-block; margin: 0 auto; \"/>\n",
    "\n",
    "- ## [GitLab](https://about.gitlab.com/)   <img src=\"images/gitlab-logo-gray-rgb.png\" style=\" height: 80px; display: inline-block; margin: 0 auto; \"/>"
   ]
  },
  {
   "cell_type": "markdown",
   "metadata": {
    "slideshow": {
     "slide_type": "slide"
    }
   },
   "source": [
    "# Getting started\n",
    "\n",
    "- ### Create a GitHub account (think about your username, use a **STRONG** password)\n",
    "- ### Turn on [Two-Factor Authentication](https://help.github.com/en/articles/configuring-two-factor-authentication) (AGI Requirement)\n",
    "- ### Go to the [Help](https://help.github.com/en#dotcom)\n",
    "- ### Complete some tutorials in the [GitHub Learning Lab](https://lab.github.com/)\n",
    "- ### __Learn Markdown__ !!!  (Seriously, it'll save you tons of time!)\n",
    "- ## Join the [Engineering Teams \"Uses for GitHub\" Channel](https://teams.microsoft.com/l/channel/19%3a0b5e3002aeca49b09daee13f9d59bd13%40thread.skype/Topic%2520-%2520Uses%2520for%2520GitHub?groupId=86cc0308-3295-4b69-b47b-dc3f3337769a&tenantId=8b5e95e7-474d-4fb4-b270-7cea810b73bb)"
   ]
  },
  {
   "cell_type": "markdown",
   "metadata": {
    "slideshow": {
     "slide_type": "subslide"
    }
   },
   "source": [
    "## As we get up to speed, contributors will be contacted by their managers\n",
    "<br/><br/><br/><br/>\n",
    "<div class=\"alert alert-warning\">detractors will be contacted directly by customers</div>"
   ]
  }
 ],
 "metadata": {
  "anaconda-cloud": {},
  "celltoolbar": "Slideshow",
  "kernelspec": {
   "display_name": "Python 3",
   "language": "python",
   "name": "python3"
  },
  "language_info": {
   "codemirror_mode": {
    "name": "ipython",
    "version": 3
   },
   "file_extension": ".py",
   "mimetype": "text/x-python",
   "name": "python",
   "nbconvert_exporter": "python",
   "pygments_lexer": "ipython3",
   "version": "3.7.1"
  },
  "livereveal": {
   "scroll": "True",
   "start_slideshow_at": "selected"
  },
  "nbpresent": {
   "slides": {},
   "themes": {}
  }
 },
 "nbformat": 4,
 "nbformat_minor": 1
}
